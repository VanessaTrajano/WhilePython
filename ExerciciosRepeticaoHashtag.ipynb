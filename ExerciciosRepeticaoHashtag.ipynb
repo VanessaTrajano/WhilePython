{
  "cells": [
    {
      "cell_type": "markdown",
      "id": "ac60394f",
      "metadata": {
        "id": "ac60394f"
      },
      "source": [
        "# Estruturas de repetição\n",
        "\n",
        "<span style=\"color: red;\"><b>Todos os exercícios são feitos partindo-se do pressuposto de que todas as entradas são dadas de forma correta. Casos limite não mencionados no enunciado não são abordados porque não fazem parte do exercício.</b></span>"
      ]
    },
    {
      "cell_type": "markdown",
      "id": "017affd0",
      "metadata": {
        "id": "017affd0"
      },
      "source": [
        "#### 1. Faça um programa que peça uma nota, entre zero e dez. Mostre uma mensagem caso o valor seja inválido e continue pedindo até que o usuário informe um valor válido."
      ]
    },
    {
      "cell_type": "code",
      "execution_count": null,
      "id": "5f12870d",
      "metadata": {
        "id": "5f12870d"
      },
      "outputs": [],
      "source": [
        "nota = int(input(\"Digite uma nota entre 0 e 10: \"))\n",
        "\n",
        "while nota < 0 or nota > 10:\n",
        "  print(\"Você digitou errado. Digite novamente:\")\n",
        "  nota = int(input(\"Digite uma nota entre 0 e 10: \"))\n",
        "\n",
        "print(f\"A nota digitada foi {nota}.\")"
      ]
    },
    {
      "cell_type": "markdown",
      "id": "dd0c6d56",
      "metadata": {
        "id": "dd0c6d56"
      },
      "source": [
        "#### 2. Faça um programa que leia um nome de usuário e a sua senha e não aceite a senha igual ao nome do usuário, mostrando uma mensagem de erro e voltando a pedir as informações."
      ]
    },
    {
      "cell_type": "code",
      "execution_count": null,
      "id": "f6579866",
      "metadata": {
        "id": "f6579866"
      },
      "outputs": [],
      "source": [
        "user = input(\"Digite o nome de usuário: \")\n",
        "senha = input(\"Digite a senha: \")\n",
        "\n",
        "while user == senha:\n",
        "  print(\"A senha não pode ser igual ao nome de usuário!\")\n",
        "  user = input(\"Digite o nome de usuário: \")\n",
        "  senha = input(\"Digite a senha: \")\n",
        "\n",
        "print(\"Obrigada por suas informações!\")"
      ]
    },
    {
      "cell_type": "markdown",
      "id": "ed113a82",
      "metadata": {
        "id": "ed113a82"
      },
      "source": [
        "\n",
        "#### 3. Faça um programa que leia e valide as seguintes informações (e para cada uma delas, continue pedindo a informação até o usuário inserir corretamente):\n",
        "##### Nome: maior que 3 caracteres;\n",
        "##### Idade: entre 0 e 150;\n",
        "##### Salário: maior que zero;\n",
        "##### Sexo: 'f' ou 'm';\n",
        "##### Estado Civil: 's', 'c', 'v', 'd';"
      ]
    },
    {
      "cell_type": "code",
      "execution_count": null,
      "id": "3284f187",
      "metadata": {
        "id": "3284f187"
      },
      "outputs": [],
      "source": [
        "nome = input(\"Digite seu nome: \")\n",
        "\n",
        "while len(nome) <= 3:\n",
        "  print(\"Impossível seu nome ser tão curto, digite novamente.\")\n",
        "  nome = input(\"Digite seu nome: \")\n",
        "\n",
        "\n",
        "idade = int(input(\"Digite sua idade: \"))\n",
        "\n",
        "while idade < 0 or idade > 150:\n",
        "  print(\"Sua entrada é inválida! Digite novamente.\")\n",
        "  idade = int(input(\"Digite sua idade: \"))\n",
        "\n",
        "\n",
        "sal = float(input(\"Digite seu salário: \"))\n",
        "\n",
        "while sal < 0:\n",
        "  print(\"Seu salário não pode ser negativo. Digite novamente.\")\n",
        "  sal = float(input(\"Digite seu salário: \"))\n",
        "\n",
        "\n",
        "sex = input(\"Digite seu sexo (use só a sigla): \")\n",
        "\n",
        "while sex != \"f\" and sex != \"m\":\n",
        "  print(\"Digite somente a sigla (f ou m).\")\n",
        "  sex = input(\"Digite seu sexo (use só a sigla): \")\n",
        "\n",
        "\n",
        "ec = input(\"Digite seu estado civil (use só a sigla): \")\n",
        "\n",
        "while ec != \"s\" and ec != \"c\" and ec != \"v\" and ec != \"d\":\n",
        "  print(\"Use somente a sigla (s, c, v ou d).\")\n",
        "  ec = input(\"Digite seu estado civil (use só a sigla): \")\n",
        "\n",
        "\n",
        "print(\"\\n\")\n",
        "print(\"Obrigada por suas informações corretas!\")"
      ]
    },
    {
      "cell_type": "markdown",
      "id": "2f25dceb",
      "metadata": {
        "id": "2f25dceb"
      },
      "source": [
        "#### 4. Supondo que a população de um país A seja da ordem de 80000 habitantes com uma taxa anual de crescimento de 3% e que a população de B seja 200000 habitantes com uma taxa de crescimento de 1.5%. Faça um programa que calcule e escreva o número de anos necessários para que a população do país A ultrapasse ou iguale a população do país B, mantidas as taxas de crescimento."
      ]
    },
    {
      "cell_type": "code",
      "execution_count": null,
      "id": "7ad0f5e9",
      "metadata": {
        "id": "7ad0f5e9"
      },
      "outputs": [],
      "source": [
        "paisA = 80000\n",
        "paisB = 200000\n",
        "anos = 0\n",
        "cresA = 3/100\n",
        "cresB = 1.5/100\n",
        "\n",
        "while paisA < paisB:\n",
        "  paisA += cresA * paisA\n",
        "  paisB += cresB * paisB\n",
        "  anos += 1\n",
        "\n",
        "print(f\"O número de anos necessários para que a população do país A ultrapasse ou iguale a população do país B, mantidas as taxas de crescimento foi {anos} anos.\")"
      ]
    },
    {
      "cell_type": "markdown",
      "id": "e9626858",
      "metadata": {
        "id": "e9626858"
      },
      "source": [
        "#### 5. Altere o programa anterior permitindo ao usuário informar as populações e as taxas de crescimento iniciais. Valide a entrada e permita repetir a operação."
      ]
    },
    {
      "cell_type": "code",
      "execution_count": null,
      "id": "c7e250a4",
      "metadata": {
        "id": "c7e250a4"
      },
      "outputs": [],
      "source": [
        "paisA = int(input(\"Digite a população do país A: \"))\n",
        "paisB = int(input(\"Digite a população do país B: \"))\n",
        "anos = 0\n",
        "cresA = int(input(\"Digite a taxa de crescimento do país A: \"))\n",
        "cresB = int(input(\"Digite a taxa de crescimento do país B: \"))\n",
        "\n",
        "if paisA < paisB:\n",
        "  while paisA < paisB:\n",
        "    paisA += cresA * paisA\n",
        "    paisB += cresB * paisB\n",
        "    anos += 1\n",
        "else:\n",
        "  while paisB < paisA:\n",
        "    paisA += cresA * paisA\n",
        "    paisB += cresB * paisB\n",
        "    anos += 1\n",
        "\n",
        "print(f\"O número de anos necessários para que a população do país A ultrapasse ou iguale a população do país B, mantidas as taxas de crescimento foi {anos} anos.\")"
      ]
    },
    {
      "cell_type": "markdown",
      "id": "b3d268b5",
      "metadata": {
        "id": "b3d268b5"
      },
      "source": [
        "#### 6. Faça um programa que peça para o usuário inserir o faturamento dos últimos 5 meses (individualmente) e informe o maior faturamento"
      ]
    },
    {
      "cell_type": "code",
      "execution_count": null,
      "id": "8078e7a5",
      "metadata": {
        "id": "8078e7a5"
      },
      "outputs": [],
      "source": [
        "faturamento = []\n",
        "maior = 0\n",
        "\n",
        "for i in range(5):\n",
        "  fat = int(input(\"Digite o faturamento: \"))\n",
        "  faturamento.append(fat)\n",
        "\n",
        "for item in faturamento:\n",
        "  if item > maior:\n",
        "    maior = item\n",
        "\n",
        "print(f\"O maior faturamento dos últimos 5 meses foi {maior}.\")"
      ]
    },
    {
      "cell_type": "markdown",
      "id": "6407824c",
      "metadata": {
        "id": "6407824c"
      },
      "source": [
        "#### 7. Faça um programa que peça para o usuário inserir o faturamento dos últimos 5 meses (individualmente) e informe o faturamento total (soma) e o faturamento médio por mês (média)."
      ]
    },
    {
      "cell_type": "code",
      "execution_count": null,
      "id": "a02320d1",
      "metadata": {
        "id": "a02320d1"
      },
      "outputs": [],
      "source": [
        "faturamento = []\n",
        "soma = 0\n",
        "media = 0\n",
        "\n",
        "for i in range(5):\n",
        "  fat = int(input(\"Digite o faturamento: \"))\n",
        "  faturamento.append(fat)\n",
        "\n",
        "soma = sum(faturamento)\n",
        "\n",
        "media = soma / len(faturamento)\n",
        "\n",
        "print(\"O faturamento total foi {:.2f} e o faturamento médio por mês foi {:.2f}.\".format(soma, media))"
      ]
    },
    {
      "cell_type": "markdown",
      "id": "703f3c4d",
      "metadata": {
        "id": "703f3c4d"
      },
      "source": [
        "#### 8. Faça um programa que consiga categorizar a idade das equipes de uma empresa. Faça um programa que peça para n pessoas a sua idade, ao final o programa devera verificar se a média de idade da equipe varia entre 0 e 25 (jovem) ,26 e 60 (sênior) e maior que 60 (idosa); e então, dizer se a equipe é jovem, sênior ou idosa, conforme a média calculada."
      ]
    },
    {
      "cell_type": "code",
      "execution_count": null,
      "id": "b56a85de",
      "metadata": {
        "id": "b56a85de"
      },
      "outputs": [],
      "source": [
        "n = int(input(\"Quantos funcionários tem na empresa? \"))\n",
        "media = 0\n",
        "equipe = []\n",
        "\n",
        "for i in range(n):\n",
        "  age = int(input(\"Digite a sua idade: \"))\n",
        "  equipe.append(age)\n",
        "\n",
        "media = sum(equipe) / n\n",
        "\n",
        "if media >= 0 and media <= 25:\n",
        "  print(\"A média de idade da equipe é jovem.\")\n",
        "elif media >= 26 and media <= 60:\n",
        "  print(\"A média de idade da equipe é sênior.\")\n",
        "else:\n",
        "  print(\"A média de idade da equipe é idosa.\")"
      ]
    },
    {
      "cell_type": "markdown",
      "id": "aad21b98",
      "metadata": {
        "id": "aad21b98"
      },
      "source": [
        "#### 9. Numa eleição existem três candidatos. Faça um programa que peça o número total de eleitores. Peça para cada eleitor votar e ao final mostrar o número de votos de cada candidato."
      ]
    },
    {
      "cell_type": "code",
      "execution_count": null,
      "id": "84aa7a93",
      "metadata": {
        "id": "84aa7a93"
      },
      "outputs": [],
      "source": [
        "eleitores = int(input(\"Digite o número total de eleitores: \"))\n",
        "can1 = []\n",
        "can2 = []\n",
        "can3 = []\n",
        "votosInvalidos = []\n",
        "\n",
        "for i in range(eleitores):\n",
        "  voto = input(\"Digite em qual candidato você quer votar (1, 2 ou 3): \")\n",
        "  if voto == \"1\":\n",
        "    can1.append(voto)\n",
        "  elif voto == \"2\":\n",
        "    can2.append(voto)\n",
        "  elif voto == \"3\":\n",
        "    can3.append(voto)\n",
        "  else:\n",
        "    votosInvalidos.append(voto)\n",
        "\n",
        "print(f\"O candidato 1 teve {len(can1)} votos.\")\n",
        "print(f\"O candidato 2 teve {len(can2)} votos.\")\n",
        "print(f\"O candidato 3 teve {len(can3)} votos.\")\n",
        "print(f\"Tiveram {len(votosInvalidos)} votos inválidos.\")"
      ]
    },
    {
      "cell_type": "markdown",
      "id": "6e306453",
      "metadata": {
        "id": "6e306453"
      },
      "source": [
        "#### 10. Faça um programa que calcule o valor total investido por um colecionador em sua coleção de CDs e o valor médio gasto em cada um deles. O usuário deverá informar a quantidade de CDs e o valor para em cada um."
      ]
    },
    {
      "cell_type": "code",
      "execution_count": null,
      "id": "6b7fa4a2",
      "metadata": {
        "id": "6b7fa4a2"
      },
      "outputs": [],
      "source": [
        "cd = int(input(\"Digite a quantidade de CDs que você tem: \"))\n",
        "valores = []\n",
        "total = 0\n",
        "\n",
        "for i in range(cd):\n",
        "  val = float(input(\"Digite o valor que você gastou com cd: \"))\n",
        "  valores.append(val)\n",
        "  total += val\n",
        "\n",
        "valmedio = total / cd\n",
        "\n",
        "print(f\"O valor total investido por você foi {total} reais\")\n",
        "print(\"O valor médio gasto em cada CD foi R${:.2f}\".format(valmedio))"
      ]
    },
    {
      "cell_type": "markdown",
      "id": "f19c8d86",
      "metadata": {
        "id": "f19c8d86"
      },
      "source": [
        "#### 11. O Sr. Manoel Joaquim possui uma grande loja de artigos de R\\\\$ 1,99, com cerca de 10 caixas. Para agilizar o cálculo de quanto cada cliente deve pagar ele desenvolveu um tabela que contém o número de itens que o cliente comprou e ao lado o valor da conta. Desta forma a atendente do caixa precisa apenas contar quantos itens o cliente está levando e olhar na tabela de preços. Você foi contratado para desenvolver o programa que monta esta tabela de preços, que conterá os preços de 1 até 50 produtos, conforme o exemplo abaixo:\n",
        "<pre>\n",
        "Lojas Quase Dois - Tabela de preços\n",
        "1 - R$ 1.99\n",
        "2 - R$ 3.98\n",
        "...\n",
        "50 - R$ 99.50\n",
        "</pre>"
      ]
    },
    {
      "cell_type": "code",
      "execution_count": null,
      "id": "4fc4d54d",
      "metadata": {
        "id": "4fc4d54d"
      },
      "outputs": [],
      "source": [
        "for i in range(50):\n",
        "  print(f\"{i+1} - R$ {1.99 * (i+1)}\")"
      ]
    },
    {
      "cell_type": "markdown",
      "id": "6cd19c52",
      "metadata": {
        "id": "6cd19c52"
      },
      "source": [
        "#### 12. Um funcionário de uma empresa recebe aumento salarial anualmente: Sabe-se que:\n",
        "<pre>\n",
        "Esse funcionário foi contratado em 1995, com salário inicial de R$ 1.000,00;\n",
        "Em 1996 recebeu aumento de 1,5% sobre seu salário inicial;\n",
        "A partir de 1997 (inclusive), os aumentos salariais sempre correspondem ao dobro do percentual do ano anterior. Faça um programa que determine o salário desse funcionário em 2003.\n",
        "</pre>"
      ]
    },
    {
      "cell_type": "code",
      "execution_count": null,
      "id": "98a4811b",
      "metadata": {
        "id": "98a4811b"
      },
      "outputs": [],
      "source": [
        "ano = 1995\n",
        "salInicial = 1000.00\n",
        "aumento = 1.5/100\n",
        "\n",
        "salNovo = salInicial * aumento\n",
        "ano += 1\n",
        "\n",
        "while ano <= 2003:\n",
        "  aumento = aumento * 2\n",
        "  salNovo = salInicial * aumento\n",
        "  ano += 1\n",
        "\n",
        "print(f\"O salário do funcionário em 2003 é {salNovo} reais\")"
      ]
    },
    {
      "cell_type": "markdown",
      "id": "227928d1",
      "metadata": {
        "id": "227928d1"
      },
      "source": [
        "#### 13. O cardápio de uma lanchonete é o seguinte:\n",
        "<pre>\n",
        "Especificação   Código  Preço\n",
        "Cachorro Quente 100     R$ 1,20\n",
        "Bauru Simples   101     R$ 1,30\n",
        "Bauru com ovo   102     R$ 1,50\n",
        "Hambúrguer      103     R$ 1,20\n",
        "Cheeseburguer   104     R$ 1,30\n",
        "Refrigerante    105     R$ 1,00\n",
        "Faça um programa que leia o código dos itens pedidos e as quantidades desejadas. Calcule e mostre o valor a ser pago por item\n",
        "(preço * quantidade) e o total geral do pedido. Considere que o cliente deve informar quando o pedido deve ser encerrado.\n",
        "</pre>"
      ]
    },
    {
      "cell_type": "code",
      "execution_count": null,
      "id": "8a784b86",
      "metadata": {
        "id": "8a784b86"
      },
      "outputs": [],
      "source": [
        "menu = [\n",
        "    [\"Cachorro Quente\", \"100\", 1.20],\n",
        "    [\"Bauru Simples\", \"101\", 1.30],\n",
        "    [\"Bauru com ovo\", \"102\", 1.50],\n",
        "    [\"Hamburguer\", \"103\", 1.20],\n",
        "    [\"Cheesburguer\", \"104\", 1.30],\n",
        "    [\"Refrigerante\", \"105\", 1.00]\n",
        "]\n",
        "\n",
        "cod = input(\"Digite o código do input (se não tiverem mais pedidos somente dê um enter vazio): \")\n",
        "quant = int(input(\"Digite a quantidade do produto: \"))\n",
        "preco = 0.0\n",
        "porItem = []\n",
        "\n",
        "while cod != \"\":\n",
        "  if cod:\n",
        "    for item in menu:\n",
        "      if cod == item[1]:\n",
        "        preco += quant * item[2]\n",
        "        porItem.append([cod, quant * item[2]])\n",
        "  cod = input(\"Digite o código do input (se não tiverem mais pedidos somente dê um enter vazio): \")\n",
        "  if cod:\n",
        "    quant = int(input(\"Digite a quantidade do produto: \"))\n",
        "\n",
        "for item in porItem:\n",
        "  print(f\"Com o produto de código {item[0]} você gastou {item[1]} reais\")\n",
        "\n",
        "print(\"O preço final da sua compra foi de R${:.2f}\".format(preco))\n"
      ]
    }
  ],
  "metadata": {
    "kernelspec": {
      "display_name": "Python 3 (ipykernel)",
      "language": "python",
      "name": "python3"
    },
    "language_info": {
      "codemirror_mode": {
        "name": "ipython",
        "version": 3
      },
      "file_extension": ".py",
      "mimetype": "text/x-python",
      "name": "python",
      "nbconvert_exporter": "python",
      "pygments_lexer": "ipython3",
      "version": "3.9.7"
    },
    "colab": {
      "provenance": []
    }
  },
  "nbformat": 4,
  "nbformat_minor": 5
}